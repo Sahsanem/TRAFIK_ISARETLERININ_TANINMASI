{
 "cells": [
  {
   "cell_type": "code",
   "execution_count": 1,
   "id": "32b58193",
   "metadata": {},
   "outputs": [
    {
     "name": "stdout",
     "output_type": "stream",
     "text": [
      "(39209, 30, 30, 3) (39209,)\n",
      "(31367, 30, 30, 3) (7842, 30, 30, 3) (31367,) (7842,)\n"
     ]
    }
   ],
   "source": [
    "import numpy as np \n",
    "import pandas as pd \n",
    "import matplotlib.pyplot as plt\n",
    "import cv2\n",
    "import tensorflow as tf\n",
    "from PIL import Image\n",
    "import os\n",
    "os.chdir(r'C:\\Users\\Casper\\Desktop/Traffic')\n",
    "from sklearn.model_selection import train_test_split\n",
    "from keras.utils.np_utils import to_categorical\n",
    "from keras.models import Sequential, load_model\n",
    "from keras.layers import Conv2D, MaxPool2D, Dense, Flatten, Dropout\n",
    "\n",
    "data = []\n",
    "labels = []\n",
    "classes = 43\n",
    "cur_path = os.getcwd()\n",
    "\n",
    "#Retrieving the images and their labels \n",
    "for i in range(classes):\n",
    "    path = os.path.join(cur_path,'train',str(i))\n",
    "    images = os.listdir(path)\n",
    "\n",
    "    for a in images:\n",
    "        try:\n",
    "            image = Image.open(path + '\\\\'+ a)\n",
    "            image = image.resize((30,30))\n",
    "            image = np.array(image)\n",
    "            #sim = Image.fromarray(image)\n",
    "            data.append(image)\n",
    "            labels.append(i)\n",
    "        except:\n",
    "            print(\"Error loading image\")\n",
    "\n",
    "#Converting lists into numpy arrays\n",
    "data = np.array(data)\n",
    "labels = np.array(labels)\n",
    "\n",
    "print(data.shape, labels.shape)\n",
    "#Splitting training and testing dataset\n",
    "X_train, X_test, y_train, y_test = train_test_split(data, labels, test_size=0.2, random_state=42)\n",
    "\n",
    "print(X_train.shape, X_test.shape, y_train.shape, y_test.shape)\n",
    "\n",
    "#Converting the labels into one hot encoding\n",
    "y_train = to_categorical(y_train, 43)\n",
    "y_test = to_categorical(y_test, 43)\n",
    "\n",
    "\n",
    "\n",
    "\n",
    "\n"
   ]
  },
  {
   "cell_type": "code",
   "execution_count": 2,
   "id": "bc9d3765",
   "metadata": {},
   "outputs": [
    {
     "name": "stdout",
     "output_type": "stream",
     "text": [
      "Epoch 1/20\n",
      "981/981 [==============================] - 169s 130ms/step - loss: 3.1324 - accuracy: 0.3295 - val_loss: 0.4348 - val_accuracy: 0.8766\n",
      "Epoch 2/20\n",
      "981/981 [==============================] - 124s 126ms/step - loss: 0.7228 - accuracy: 0.7881 - val_loss: 0.1942 - val_accuracy: 0.9459\n",
      "Epoch 3/20\n",
      "981/981 [==============================] - 134s 137ms/step - loss: 0.4718 - accuracy: 0.8604 - val_loss: 0.1576 - val_accuracy: 0.9603\n",
      "Epoch 4/20\n",
      "981/981 [==============================] - 127s 130ms/step - loss: 0.4362 - accuracy: 0.8744 - val_loss: 0.1065 - val_accuracy: 0.9716\n",
      "Epoch 5/20\n",
      "981/981 [==============================] - 127s 129ms/step - loss: 0.3601 - accuracy: 0.8951 - val_loss: 0.0900 - val_accuracy: 0.9741\n",
      "Epoch 6/20\n",
      "981/981 [==============================] - 126s 129ms/step - loss: 0.3111 - accuracy: 0.9068 - val_loss: 0.0628 - val_accuracy: 0.9818\n",
      "Epoch 7/20\n",
      "981/981 [==============================] - 126s 129ms/step - loss: 0.2978 - accuracy: 0.9143 - val_loss: 0.0813 - val_accuracy: 0.9768\n",
      "Epoch 8/20\n",
      "981/981 [==============================] - 127s 129ms/step - loss: 0.2741 - accuracy: 0.9208 - val_loss: 0.0760 - val_accuracy: 0.9788\n",
      "Epoch 9/20\n",
      "981/981 [==============================] - 126s 128ms/step - loss: 0.2445 - accuracy: 0.9308 - val_loss: 0.0687 - val_accuracy: 0.9804\n",
      "Epoch 10/20\n",
      "981/981 [==============================] - 125s 128ms/step - loss: 0.2587 - accuracy: 0.9253 - val_loss: 0.0736 - val_accuracy: 0.9806\n",
      "Epoch 11/20\n",
      "981/981 [==============================] - 117s 120ms/step - loss: 0.2424 - accuracy: 0.9309 - val_loss: 0.0477 - val_accuracy: 0.9879\n",
      "Epoch 12/20\n",
      "981/981 [==============================] - 109s 111ms/step - loss: 0.2191 - accuracy: 0.9378 - val_loss: 0.0693 - val_accuracy: 0.9818\n",
      "Epoch 13/20\n",
      "981/981 [==============================] - 106s 108ms/step - loss: 0.2030 - accuracy: 0.9425 - val_loss: 0.0407 - val_accuracy: 0.9897\n",
      "Epoch 14/20\n",
      "981/981 [==============================] - 106s 108ms/step - loss: 0.1908 - accuracy: 0.9459 - val_loss: 0.0451 - val_accuracy: 0.9874\n",
      "Epoch 15/20\n",
      "981/981 [==============================] - 115s 117ms/step - loss: 0.2002 - accuracy: 0.9460 - val_loss: 0.0866 - val_accuracy: 0.9739\n",
      "Epoch 16/20\n",
      "981/981 [==============================] - 105s 107ms/step - loss: 0.2325 - accuracy: 0.9372 - val_loss: 0.0566 - val_accuracy: 0.9842\n",
      "Epoch 17/20\n",
      "981/981 [==============================] - 119s 121ms/step - loss: 0.2188 - accuracy: 0.9408 - val_loss: 0.0600 - val_accuracy: 0.9830\n",
      "Epoch 18/20\n",
      "981/981 [==============================] - 118s 121ms/step - loss: 0.1844 - accuracy: 0.9489 - val_loss: 0.0937 - val_accuracy: 0.9733\n",
      "Epoch 19/20\n",
      "981/981 [==============================] - 138s 141ms/step - loss: 0.2174 - accuracy: 0.9405 - val_loss: 0.0417 - val_accuracy: 0.9899\n",
      "Epoch 20/20\n",
      "981/981 [==============================] - 114s 116ms/step - loss: 0.1991 - accuracy: 0.9461 - val_loss: 0.1116 - val_accuracy: 0.9684\n"
     ]
    }
   ],
   "source": [
    "#Building the model\n",
    "model = Sequential()\n",
    "model.add(Conv2D(filters=32, kernel_size=(5,5), activation='relu', input_shape=X_train.shape[1:]))\n",
    "model.add(Conv2D(filters=32, kernel_size=(5,5), activation='relu'))\n",
    "model.add(MaxPool2D(pool_size=(2, 2)))\n",
    "model.add(Dropout(rate=0.25))\n",
    "model.add(Conv2D(filters=64, kernel_size=(3, 3), activation='relu'))\n",
    "model.add(Conv2D(filters=64, kernel_size=(3, 3), activation='relu'))\n",
    "model.add(MaxPool2D(pool_size=(2, 2)))\n",
    "model.add(Dropout(rate=0.25))\n",
    "model.add(Flatten())\n",
    "model.add(Dense(256, activation='relu'))\n",
    "model.add(Dropout(rate=0.5))\n",
    "model.add(Dense(43, activation='softmax'))\n",
    "\n",
    "#Compilation of the model\n",
    "model.compile(loss='categorical_crossentropy', optimizer='adam', metrics=['accuracy'])\n",
    "\n",
    "epochs = 20\n",
    "history = model.fit(X_train, y_train, batch_size=32, epochs=epochs, validation_data=(X_test, y_test))\n",
    "model.save(\"my_model.h5\")"
   ]
  },
  {
   "cell_type": "code",
   "execution_count": 9,
   "id": "6ccca2e2",
   "metadata": {},
   "outputs": [
    {
     "data": {
      "image/png": "[encoded data removed]",
      "text/plain": [
       "<Figure size 432x288 with 1 Axes>"
      ]
     },
     "metadata": {
      "needs_background": "light"
     },
     "output_type": "display_data"
    }
   ],
   "source": [
    "#plotting graphs for accuracy \n",
    "plt.figure(0)\n",
    "plt.plot(history.history['accuracy'], label='training accuracy')\n",
    "plt.plot(history.history['val_accuracy'], label='val accuracy')\n",
    "plt.title('Accuracy')\n",
    "plt.xlabel('epochs')\n",
    "plt.ylabel('accuracy')\n",
    "plt.legend()\n",
    "plt.show()"
   ]
  },
  {
   "cell_type": "code",
   "execution_count": 10,
   "id": "618bf9c7",
   "metadata": {},
   "outputs": [
    {
     "data": {
      "image/png": "[encoded data removed]",
      "text/plain": [
       "<Figure size 432x288 with 1 Axes>"
      ]
     },
     "metadata": {
      "needs_background": "light"
     },
     "output_type": "display_data"
    }
   ],
   "source": [
    "plt.figure(1)\n",
    "plt.plot(history.history['loss'], label='training loss')\n",
    "plt.plot(history.history['val_loss'], label='val loss')\n",
    "plt.title('Loss')\n",
    "plt.xlabel('epochs')\n",
    "plt.ylabel('loss')\n",
    "plt.legend()\n",
    "plt.show()"
   ]
  },
  {
   "cell_type": "code",
   "execution_count": 2,
   "id": "7a17f2fe",
   "metadata": {},
   "outputs": [
    {
     "name": "stdout",
     "output_type": "stream",
     "text": [
      "0.9685669041963578\n"
     ]
    }
   ],
   "source": [
    "from sklearn.metrics import accuracy_score\n",
    "print(accuracy_score(labels, pred))"
   ]
  },
  {
   "cell_type": "code",
   "execution_count": 6,
   "id": "9afafddb",
   "metadata": {},
   "outputs": [
    {
     "name": "stderr",
     "output_type": "stream",
     "text": [
      "C:\\Users\\Casper\\anaconda3\\lib\\site-packages\\keras\\engine\\sequential.py:450: UserWarning: `model.predict_classes()` is deprecated and will be removed after 2021-01-01. Please use instead:* `np.argmax(model.predict(x), axis=-1)`,   if your model does multi-class classification   (e.g. if it uses a `softmax` last-layer activation).* `(model.predict(x) > 0.5).astype(\"int32\")`,   if your model does binary classification   (e.g. if it uses a `sigmoid` last-layer activation).\n",
      "  warnings.warn('`model.predict_classes()` is deprecated and '\n"
     ]
    },
    {
     "name": "stdout",
     "output_type": "stream",
     "text": [
     ]
    }
   ],
   "source": [
    "#testing accuracy on test dataset\n",
    "from sklearn.metrics import accuracy_score\n",
    "\n",
    "y_test = pd.read_csv('Test.csv')\n",
    "\n",
    "labels = y_test[\"ClassId\"].values\n",
    "imgs = y_test[\"Path\"].values\n",
    "\n",
    "data=[]\n",
    "\n",
    "for img in imgs:\n",
    "    image = Image.open(img)\n",
    "    image = image.resize((30,30))\n",
    "    data.append(np.array(image))\n",
    "\n",
    "X_test=np.array(data)\n",
    "\n",
    "pred = model.predict_classes(X_test)\n",
    "\n",
    "#Accuracy with the test data\n",
    "from sklearn.metrics import accuracy_score\n",
    "print(accuracy_score(labels, pred))\n",
    "\n",
    "model.save(\"traffic_classifier.h5\")"
   ]
  },
  {
   "cell_type": "code",
   "execution_count": 8,
   "id": "a1b5e6a8",
   "metadata": {},
   "outputs": [
    {
     "name": "stdout",
     "output_type": "stream",
     "text": [
      "Hız sınırı (120km/s)\n",
      "Vahşi hayvan çıkabilir\n",
      "Hız sınırı (80km/s)\n",
      "Dikkat\n",
      "Okul Geçiti\n",
      "Yol çalışması\n",
      "Hız sınırı (50km/s)\n"
     ]
    }
   ],
   "source": [
    "import tkinter as tk\n",
    "from tkinter import filedialog\n",
    "from tkinter import *\n",
    "from PIL import ImageTk, Image\n",
    "\n",
    "import numpy\n",
    "#load the trained model to classify sign\n",
    "from keras.models import load_model\n",
    "model = load_model('traffic_classifier.h5')\n",
    "\n",
    "#dictionary to label all traffic signs class.\n",
    "classes = {  1:'Hız sınırı (20km/s)',\n",
    "             2:'Hız sınırı (30km/s)',\n",
    "             3:'Hız sınırı (50km/s)',\n",
    "             4:'Hız sınırı (60km/s)',\n",
    "             5:'Hız sınırı (70km/s)',\n",
    "             6:'Hız sınırı (80km/s)',\n",
    "             7:'Hız sınırının sonu (80km/s)',\n",
    "             8:'Hız sınırı (100km/s)',\n",
    "             9:'Hız sınırı (120km/s)',\n",
    "             10:'Geçiş yok/Öndeki taşıtı geçmek yasaktır ',\n",
    "             11:'3,5 tonu geçen araç geçilmez',\n",
    "             12:'Kavşakta geçiş hakkı',\n",
    "             13:'Anayol',\n",
    "             14:'Yol Ver',\n",
    "             15:'Dur',\n",
    "             16:'Araç Giremez',\n",
    "             17:'3,5 ton üzeri araçların öndeki aracı geçmesi yasaktır',\n",
    "             18:'Giriş yok',\n",
    "             19:'Dikkat',\n",
    "             20:'Sola tehlikeli viraj',\n",
    "             21:'Sağa tehlikeli viraj',\n",
    "             22:'Sola tehlikeli devamlı virajlar',\n",
    "             23:'Engebeli yol',\n",
    "             24:'Kaygan yol',\n",
    "             25:'Yol sağdan daralıyor',\n",
    "             26:'Yol çalışması',\n",
    "             27:'Trafik sinyalleri',\n",
    "             28:'Yaya Geçidi',\n",
    "             29:'Okul Geçiti',\n",
    "             30:'Bisiklet geçiti',\n",
    "             31:'Buz/kardan sakının',\n",
    "             32:'Vahşi hayvan çıkabilir',\n",
    "             33:'Bitiş hızı + geçiş limitleri',\n",
    "             34:'Sağa dönüş',\n",
    "             35:'Sola dönüş',\n",
    "             36:'Zorunlu yön',\n",
    "             37:'Düz veya sağa gidin',\n",
    "             38:'Düz veya sola gidin',\n",
    "             39:'Sağa mecburi yön',\n",
    "             40:'Sola mecburi yön',\n",
    "             41:'Mecburi dönel kavşak',\n",
    "             42:'Geçiş yok sonu',\n",
    "             43:'Geçişsiz araç > 3,5 ton'}\n",
    "#initialise GUI\n",
    "top=tk.Tk()\n",
    "top.geometry('800x600')\n",
    "top.title('Traffic sign classification')\n",
    "top.configure(background='#CDCDCD')\n",
    "\n",
    "label=Label(top,background='#CDCDCD', font=('arial',15,'bold'))\n",
    "sign_image = Label(top)\n",
    "\n",
    "def classify(file_path):\n",
    "    global label_packed\n",
    "    image = Image.open(file_path)\n",
    "    image = image.resize((30,30))\n",
    "    image = numpy.expand_dims(image, axis=0)\n",
    "    image = numpy.array(image)\n",
    "    pred = model.predict_classes([image])[0]\n",
    "    sign = classes[pred+1]\n",
    "    print(sign)\n",
    "    label.configure(foreground='#011638', text=sign) \n",
    "\n",
    "def show_classify_button(file_path):\n",
    "    classify_b=Button(top,text=\"Sınıflandır\",command=lambda: classify(file_path),padx=10,pady=5)\n",
    "    classify_b.configure(background='#364156', foreground='white',font=('arial',10,'bold'))\n",
    "    classify_b.place(relx=0.79,rely=0.46)\n",
    "\n",
    "def upload_image():\n",
    "    try:\n",
    "        file_path=filedialog.askopenfilename()\n",
    "        uploaded=Image.open(file_path)\n",
    "        uploaded.thumbnail(((top.winfo_width()/2.25),(top.winfo_height()/2.25)))\n",
    "        im=ImageTk.PhotoImage(uploaded)\n",
    "\n",
    "        sign_image.configure(image=im)\n",
    "        sign_image.image=im\n",
    "        label.configure(text='')\n",
    "        show_classify_button(file_path)\n",
    "    except:\n",
    "        pass\n",
    "\n",
    "upload=Button(top,text=\"Yukle\",command=upload_image,padx=10,pady=5)\n",
    "upload.configure(background='#364156', foreground='white',font=('arial',10,'bold'))\n",
    "\n",
    "upload.pack(side=BOTTOM,pady=50)\n",
    "sign_image.pack(side=BOTTOM,expand=True)\n",
    "label.pack(side=BOTTOM,expand=True)\n",
    "heading = Label(top, text=\"Trafik İsaretlerini Tanıma\",pady=20, font=('arial',20,'bold'))\n",
    "heading.configure(background='#CDCDCD',foreground='#364156')\n",
    "heading.pack()\n",
    "top.mainloop()\n"
   ]
  }
 ],
 "metadata": {
  "kernelspec": {
   "display_name": "Python 3",
   "language": "python",
   "name": "python3"
  },
  "language_info": {
   "codemirror_mode": {
    "name": "ipython",
    "version": 3
   },
   "file_extension": ".py",
   "mimetype": "text/x-python",
   "name": "python",
   "nbconvert_exporter": "python",
   "pygments_lexer": "ipython3",
   "version": "3.8.8"
  }
 },
 "nbformat": 4,
 "nbformat_minor": 5
}
